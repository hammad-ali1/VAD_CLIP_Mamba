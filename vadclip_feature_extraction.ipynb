{
  "nbformat": 4,
  "nbformat_minor": 0,
  "metadata": {
    "colab": {
      "provenance": [],
      "gpuType": "T4"
    },
    "kernelspec": {
      "name": "python3",
      "display_name": "Python 3"
    },
    "language_info": {
      "name": "python"
    },
    "accelerator": "GPU",
    "widgets": {
      "application/vnd.jupyter.widget-state+json": {
        "5e0171cce4be4ec3be43f8983fc5d07a": {
          "model_module": "@jupyter-widgets/controls",
          "model_name": "HBoxModel",
          "model_module_version": "1.5.0",
          "state": {
            "_dom_classes": [],
            "_model_module": "@jupyter-widgets/controls",
            "_model_module_version": "1.5.0",
            "_model_name": "HBoxModel",
            "_view_count": null,
            "_view_module": "@jupyter-widgets/controls",
            "_view_module_version": "1.5.0",
            "_view_name": "HBoxView",
            "box_style": "",
            "children": [
              "IPY_MODEL_b8a77a1e81f041cc8c64755d7cc7c40c",
              "IPY_MODEL_5bc2cd9f6b134958a6cad86c2d882d5c",
              "IPY_MODEL_cf9a3c24bdfa4850818f5dfbd3501cd0"
            ],
            "layout": "IPY_MODEL_37133f38bf0746d38d89a1003bd8bc72"
          }
        },
        "b8a77a1e81f041cc8c64755d7cc7c40c": {
          "model_module": "@jupyter-widgets/controls",
          "model_name": "HTMLModel",
          "model_module_version": "1.5.0",
          "state": {
            "_dom_classes": [],
            "_model_module": "@jupyter-widgets/controls",
            "_model_module_version": "1.5.0",
            "_model_name": "HTMLModel",
            "_view_count": null,
            "_view_module": "@jupyter-widgets/controls",
            "_view_module_version": "1.5.0",
            "_view_name": "HTMLView",
            "description": "",
            "description_tooltip": null,
            "layout": "IPY_MODEL_809ac0e38d7f450ab8bbba4a5dd9a750",
            "placeholder": "​",
            "style": "IPY_MODEL_8ffce9e0d42c4a9ea6a740172eebe02c",
            "value": "Dataset:  62%"
          }
        },
        "5bc2cd9f6b134958a6cad86c2d882d5c": {
          "model_module": "@jupyter-widgets/controls",
          "model_name": "FloatProgressModel",
          "model_module_version": "1.5.0",
          "state": {
            "_dom_classes": [],
            "_model_module": "@jupyter-widgets/controls",
            "_model_module_version": "1.5.0",
            "_model_name": "FloatProgressModel",
            "_view_count": null,
            "_view_module": "@jupyter-widgets/controls",
            "_view_module_version": "1.5.0",
            "_view_name": "ProgressView",
            "bar_style": "danger",
            "description": "",
            "description_tooltip": null,
            "layout": "IPY_MODEL_4dea6a41cc7f46539df2314498de19f5",
            "max": 430,
            "min": 0,
            "orientation": "horizontal",
            "style": "IPY_MODEL_67d7c1cac85b4c418a092e704c1969bb",
            "value": 267
          }
        },
        "cf9a3c24bdfa4850818f5dfbd3501cd0": {
          "model_module": "@jupyter-widgets/controls",
          "model_name": "HTMLModel",
          "model_module_version": "1.5.0",
          "state": {
            "_dom_classes": [],
            "_model_module": "@jupyter-widgets/controls",
            "_model_module_version": "1.5.0",
            "_model_name": "HTMLModel",
            "_view_count": null,
            "_view_module": "@jupyter-widgets/controls",
            "_view_module_version": "1.5.0",
            "_view_name": "HTMLView",
            "description": "",
            "description_tooltip": null,
            "layout": "IPY_MODEL_5baffab99a4f4faabde90ef0f7280e6a",
            "placeholder": "​",
            "style": "IPY_MODEL_145f2145d99746a68b7181fc24a7b351",
            "value": " 267/430 [08:02&lt;00:01, 111.74video/s]"
          }
        },
        "37133f38bf0746d38d89a1003bd8bc72": {
          "model_module": "@jupyter-widgets/base",
          "model_name": "LayoutModel",
          "model_module_version": "1.2.0",
          "state": {
            "_model_module": "@jupyter-widgets/base",
            "_model_module_version": "1.2.0",
            "_model_name": "LayoutModel",
            "_view_count": null,
            "_view_module": "@jupyter-widgets/base",
            "_view_module_version": "1.2.0",
            "_view_name": "LayoutView",
            "align_content": null,
            "align_items": null,
            "align_self": null,
            "border": null,
            "bottom": null,
            "display": null,
            "flex": null,
            "flex_flow": null,
            "grid_area": null,
            "grid_auto_columns": null,
            "grid_auto_flow": null,
            "grid_auto_rows": null,
            "grid_column": null,
            "grid_gap": null,
            "grid_row": null,
            "grid_template_areas": null,
            "grid_template_columns": null,
            "grid_template_rows": null,
            "height": null,
            "justify_content": null,
            "justify_items": null,
            "left": null,
            "margin": null,
            "max_height": null,
            "max_width": null,
            "min_height": null,
            "min_width": null,
            "object_fit": null,
            "object_position": null,
            "order": null,
            "overflow": null,
            "overflow_x": null,
            "overflow_y": null,
            "padding": null,
            "right": null,
            "top": null,
            "visibility": null,
            "width": null
          }
        },
        "809ac0e38d7f450ab8bbba4a5dd9a750": {
          "model_module": "@jupyter-widgets/base",
          "model_name": "LayoutModel",
          "model_module_version": "1.2.0",
          "state": {
            "_model_module": "@jupyter-widgets/base",
            "_model_module_version": "1.2.0",
            "_model_name": "LayoutModel",
            "_view_count": null,
            "_view_module": "@jupyter-widgets/base",
            "_view_module_version": "1.2.0",
            "_view_name": "LayoutView",
            "align_content": null,
            "align_items": null,
            "align_self": null,
            "border": null,
            "bottom": null,
            "display": null,
            "flex": null,
            "flex_flow": null,
            "grid_area": null,
            "grid_auto_columns": null,
            "grid_auto_flow": null,
            "grid_auto_rows": null,
            "grid_column": null,
            "grid_gap": null,
            "grid_row": null,
            "grid_template_areas": null,
            "grid_template_columns": null,
            "grid_template_rows": null,
            "height": null,
            "justify_content": null,
            "justify_items": null,
            "left": null,
            "margin": null,
            "max_height": null,
            "max_width": null,
            "min_height": null,
            "min_width": null,
            "object_fit": null,
            "object_position": null,
            "order": null,
            "overflow": null,
            "overflow_x": null,
            "overflow_y": null,
            "padding": null,
            "right": null,
            "top": null,
            "visibility": null,
            "width": null
          }
        },
        "8ffce9e0d42c4a9ea6a740172eebe02c": {
          "model_module": "@jupyter-widgets/controls",
          "model_name": "DescriptionStyleModel",
          "model_module_version": "1.5.0",
          "state": {
            "_model_module": "@jupyter-widgets/controls",
            "_model_module_version": "1.5.0",
            "_model_name": "DescriptionStyleModel",
            "_view_count": null,
            "_view_module": "@jupyter-widgets/base",
            "_view_module_version": "1.2.0",
            "_view_name": "StyleView",
            "description_width": ""
          }
        },
        "4dea6a41cc7f46539df2314498de19f5": {
          "model_module": "@jupyter-widgets/base",
          "model_name": "LayoutModel",
          "model_module_version": "1.2.0",
          "state": {
            "_model_module": "@jupyter-widgets/base",
            "_model_module_version": "1.2.0",
            "_model_name": "LayoutModel",
            "_view_count": null,
            "_view_module": "@jupyter-widgets/base",
            "_view_module_version": "1.2.0",
            "_view_name": "LayoutView",
            "align_content": null,
            "align_items": null,
            "align_self": null,
            "border": null,
            "bottom": null,
            "display": null,
            "flex": null,
            "flex_flow": null,
            "grid_area": null,
            "grid_auto_columns": null,
            "grid_auto_flow": null,
            "grid_auto_rows": null,
            "grid_column": null,
            "grid_gap": null,
            "grid_row": null,
            "grid_template_areas": null,
            "grid_template_columns": null,
            "grid_template_rows": null,
            "height": null,
            "justify_content": null,
            "justify_items": null,
            "left": null,
            "margin": null,
            "max_height": null,
            "max_width": null,
            "min_height": null,
            "min_width": null,
            "object_fit": null,
            "object_position": null,
            "order": null,
            "overflow": null,
            "overflow_x": null,
            "overflow_y": null,
            "padding": null,
            "right": null,
            "top": null,
            "visibility": null,
            "width": null
          }
        },
        "67d7c1cac85b4c418a092e704c1969bb": {
          "model_module": "@jupyter-widgets/controls",
          "model_name": "ProgressStyleModel",
          "model_module_version": "1.5.0",
          "state": {
            "_model_module": "@jupyter-widgets/controls",
            "_model_module_version": "1.5.0",
            "_model_name": "ProgressStyleModel",
            "_view_count": null,
            "_view_module": "@jupyter-widgets/base",
            "_view_module_version": "1.2.0",
            "_view_name": "StyleView",
            "bar_color": null,
            "description_width": ""
          }
        },
        "5baffab99a4f4faabde90ef0f7280e6a": {
          "model_module": "@jupyter-widgets/base",
          "model_name": "LayoutModel",
          "model_module_version": "1.2.0",
          "state": {
            "_model_module": "@jupyter-widgets/base",
            "_model_module_version": "1.2.0",
            "_model_name": "LayoutModel",
            "_view_count": null,
            "_view_module": "@jupyter-widgets/base",
            "_view_module_version": "1.2.0",
            "_view_name": "LayoutView",
            "align_content": null,
            "align_items": null,
            "align_self": null,
            "border": null,
            "bottom": null,
            "display": null,
            "flex": null,
            "flex_flow": null,
            "grid_area": null,
            "grid_auto_columns": null,
            "grid_auto_flow": null,
            "grid_auto_rows": null,
            "grid_column": null,
            "grid_gap": null,
            "grid_row": null,
            "grid_template_areas": null,
            "grid_template_columns": null,
            "grid_template_rows": null,
            "height": null,
            "justify_content": null,
            "justify_items": null,
            "left": null,
            "margin": null,
            "max_height": null,
            "max_width": null,
            "min_height": null,
            "min_width": null,
            "object_fit": null,
            "object_position": null,
            "order": null,
            "overflow": null,
            "overflow_x": null,
            "overflow_y": null,
            "padding": null,
            "right": null,
            "top": null,
            "visibility": null,
            "width": null
          }
        },
        "145f2145d99746a68b7181fc24a7b351": {
          "model_module": "@jupyter-widgets/controls",
          "model_name": "DescriptionStyleModel",
          "model_module_version": "1.5.0",
          "state": {
            "_model_module": "@jupyter-widgets/controls",
            "_model_module_version": "1.5.0",
            "_model_name": "DescriptionStyleModel",
            "_view_count": null,
            "_view_module": "@jupyter-widgets/base",
            "_view_module_version": "1.2.0",
            "_view_name": "StyleView",
            "description_width": ""
          }
        },
        "80a6e3df5a834c499e6a83dbd2671677": {
          "model_module": "@jupyter-widgets/controls",
          "model_name": "HBoxModel",
          "model_module_version": "1.5.0",
          "state": {
            "_dom_classes": [],
            "_model_module": "@jupyter-widgets/controls",
            "_model_module_version": "1.5.0",
            "_model_name": "HBoxModel",
            "_view_count": null,
            "_view_module": "@jupyter-widgets/controls",
            "_view_module_version": "1.5.0",
            "_view_name": "HBoxView",
            "box_style": "",
            "children": [
              "IPY_MODEL_f8ce2eac2dfd4681897b6eae8de5600f",
              "IPY_MODEL_aa8845ddadc84a148f4193864410c8d4",
              "IPY_MODEL_0b1e29679b3e49b99a8479b58067aa12"
            ],
            "layout": "IPY_MODEL_372da3cc688c49fe8881a0d66f64d0db"
          }
        },
        "f8ce2eac2dfd4681897b6eae8de5600f": {
          "model_module": "@jupyter-widgets/controls",
          "model_name": "HTMLModel",
          "model_module_version": "1.5.0",
          "state": {
            "_dom_classes": [],
            "_model_module": "@jupyter-widgets/controls",
            "_model_module_version": "1.5.0",
            "_model_name": "HTMLModel",
            "_view_count": null,
            "_view_module": "@jupyter-widgets/controls",
            "_view_module_version": "1.5.0",
            "_view_name": "HTMLView",
            "description": "",
            "description_tooltip": null,
            "layout": "IPY_MODEL_348b3921b8f94f98a895ecc88bfa67b8",
            "placeholder": "​",
            "style": "IPY_MODEL_6939a9395f834911954a983c6e2d011f",
            "value": "Video: Normal_Videos307_x264:   0%"
          }
        },
        "aa8845ddadc84a148f4193864410c8d4": {
          "model_module": "@jupyter-widgets/controls",
          "model_name": "FloatProgressModel",
          "model_module_version": "1.5.0",
          "state": {
            "_dom_classes": [],
            "_model_module": "@jupyter-widgets/controls",
            "_model_module_version": "1.5.0",
            "_model_name": "FloatProgressModel",
            "_view_count": null,
            "_view_module": "@jupyter-widgets/controls",
            "_view_module_version": "1.5.0",
            "_view_name": "ProgressView",
            "bar_style": "danger",
            "description": "",
            "description_tooltip": null,
            "layout": "IPY_MODEL_aebd87360f624216b0a181f5dc347ecb",
            "max": 10,
            "min": 0,
            "orientation": "horizontal",
            "style": "IPY_MODEL_918d8f1d49634b8b8c3e108feefcfebf",
            "value": 0
          }
        },
        "0b1e29679b3e49b99a8479b58067aa12": {
          "model_module": "@jupyter-widgets/controls",
          "model_name": "HTMLModel",
          "model_module_version": "1.5.0",
          "state": {
            "_dom_classes": [],
            "_model_module": "@jupyter-widgets/controls",
            "_model_module_version": "1.5.0",
            "_model_name": "HTMLModel",
            "_view_count": null,
            "_view_module": "@jupyter-widgets/controls",
            "_view_module_version": "1.5.0",
            "_view_name": "HTMLView",
            "description": "",
            "description_tooltip": null,
            "layout": "IPY_MODEL_895cb1c7111d4a03ae654e6b41b4c798",
            "placeholder": "​",
            "style": "IPY_MODEL_0d861d76b56641e094e1e47bbd18e8fb",
            "value": " 0/10 [08:00&lt;?, ?crop/s]"
          }
        },
        "372da3cc688c49fe8881a0d66f64d0db": {
          "model_module": "@jupyter-widgets/base",
          "model_name": "LayoutModel",
          "model_module_version": "1.2.0",
          "state": {
            "_model_module": "@jupyter-widgets/base",
            "_model_module_version": "1.2.0",
            "_model_name": "LayoutModel",
            "_view_count": null,
            "_view_module": "@jupyter-widgets/base",
            "_view_module_version": "1.2.0",
            "_view_name": "LayoutView",
            "align_content": null,
            "align_items": null,
            "align_self": null,
            "border": null,
            "bottom": null,
            "display": "inline-flex",
            "flex": null,
            "flex_flow": "row wrap",
            "grid_area": null,
            "grid_auto_columns": null,
            "grid_auto_flow": null,
            "grid_auto_rows": null,
            "grid_column": null,
            "grid_gap": null,
            "grid_row": null,
            "grid_template_areas": null,
            "grid_template_columns": null,
            "grid_template_rows": null,
            "height": null,
            "justify_content": null,
            "justify_items": null,
            "left": null,
            "margin": null,
            "max_height": null,
            "max_width": null,
            "min_height": null,
            "min_width": null,
            "object_fit": null,
            "object_position": null,
            "order": null,
            "overflow": null,
            "overflow_x": null,
            "overflow_y": null,
            "padding": null,
            "right": null,
            "top": null,
            "visibility": null,
            "width": "100%"
          }
        },
        "348b3921b8f94f98a895ecc88bfa67b8": {
          "model_module": "@jupyter-widgets/base",
          "model_name": "LayoutModel",
          "model_module_version": "1.2.0",
          "state": {
            "_model_module": "@jupyter-widgets/base",
            "_model_module_version": "1.2.0",
            "_model_name": "LayoutModel",
            "_view_count": null,
            "_view_module": "@jupyter-widgets/base",
            "_view_module_version": "1.2.0",
            "_view_name": "LayoutView",
            "align_content": null,
            "align_items": null,
            "align_self": null,
            "border": null,
            "bottom": null,
            "display": null,
            "flex": null,
            "flex_flow": null,
            "grid_area": null,
            "grid_auto_columns": null,
            "grid_auto_flow": null,
            "grid_auto_rows": null,
            "grid_column": null,
            "grid_gap": null,
            "grid_row": null,
            "grid_template_areas": null,
            "grid_template_columns": null,
            "grid_template_rows": null,
            "height": null,
            "justify_content": null,
            "justify_items": null,
            "left": null,
            "margin": null,
            "max_height": null,
            "max_width": null,
            "min_height": null,
            "min_width": null,
            "object_fit": null,
            "object_position": null,
            "order": null,
            "overflow": null,
            "overflow_x": null,
            "overflow_y": null,
            "padding": null,
            "right": null,
            "top": null,
            "visibility": null,
            "width": null
          }
        },
        "6939a9395f834911954a983c6e2d011f": {
          "model_module": "@jupyter-widgets/controls",
          "model_name": "DescriptionStyleModel",
          "model_module_version": "1.5.0",
          "state": {
            "_model_module": "@jupyter-widgets/controls",
            "_model_module_version": "1.5.0",
            "_model_name": "DescriptionStyleModel",
            "_view_count": null,
            "_view_module": "@jupyter-widgets/base",
            "_view_module_version": "1.2.0",
            "_view_name": "StyleView",
            "description_width": ""
          }
        },
        "aebd87360f624216b0a181f5dc347ecb": {
          "model_module": "@jupyter-widgets/base",
          "model_name": "LayoutModel",
          "model_module_version": "1.2.0",
          "state": {
            "_model_module": "@jupyter-widgets/base",
            "_model_module_version": "1.2.0",
            "_model_name": "LayoutModel",
            "_view_count": null,
            "_view_module": "@jupyter-widgets/base",
            "_view_module_version": "1.2.0",
            "_view_name": "LayoutView",
            "align_content": null,
            "align_items": null,
            "align_self": null,
            "border": null,
            "bottom": null,
            "display": null,
            "flex": "2",
            "flex_flow": null,
            "grid_area": null,
            "grid_auto_columns": null,
            "grid_auto_flow": null,
            "grid_auto_rows": null,
            "grid_column": null,
            "grid_gap": null,
            "grid_row": null,
            "grid_template_areas": null,
            "grid_template_columns": null,
            "grid_template_rows": null,
            "height": null,
            "justify_content": null,
            "justify_items": null,
            "left": null,
            "margin": null,
            "max_height": null,
            "max_width": null,
            "min_height": null,
            "min_width": null,
            "object_fit": null,
            "object_position": null,
            "order": null,
            "overflow": null,
            "overflow_x": null,
            "overflow_y": null,
            "padding": null,
            "right": null,
            "top": null,
            "visibility": null,
            "width": null
          }
        },
        "918d8f1d49634b8b8c3e108feefcfebf": {
          "model_module": "@jupyter-widgets/controls",
          "model_name": "ProgressStyleModel",
          "model_module_version": "1.5.0",
          "state": {
            "_model_module": "@jupyter-widgets/controls",
            "_model_module_version": "1.5.0",
            "_model_name": "ProgressStyleModel",
            "_view_count": null,
            "_view_module": "@jupyter-widgets/base",
            "_view_module_version": "1.2.0",
            "_view_name": "StyleView",
            "bar_color": null,
            "description_width": ""
          }
        },
        "895cb1c7111d4a03ae654e6b41b4c798": {
          "model_module": "@jupyter-widgets/base",
          "model_name": "LayoutModel",
          "model_module_version": "1.2.0",
          "state": {
            "_model_module": "@jupyter-widgets/base",
            "_model_module_version": "1.2.0",
            "_model_name": "LayoutModel",
            "_view_count": null,
            "_view_module": "@jupyter-widgets/base",
            "_view_module_version": "1.2.0",
            "_view_name": "LayoutView",
            "align_content": null,
            "align_items": null,
            "align_self": null,
            "border": null,
            "bottom": null,
            "display": null,
            "flex": null,
            "flex_flow": null,
            "grid_area": null,
            "grid_auto_columns": null,
            "grid_auto_flow": null,
            "grid_auto_rows": null,
            "grid_column": null,
            "grid_gap": null,
            "grid_row": null,
            "grid_template_areas": null,
            "grid_template_columns": null,
            "grid_template_rows": null,
            "height": null,
            "justify_content": null,
            "justify_items": null,
            "left": null,
            "margin": null,
            "max_height": null,
            "max_width": null,
            "min_height": null,
            "min_width": null,
            "object_fit": null,
            "object_position": null,
            "order": null,
            "overflow": null,
            "overflow_x": null,
            "overflow_y": null,
            "padding": null,
            "right": null,
            "top": null,
            "visibility": null,
            "width": null
          }
        },
        "0d861d76b56641e094e1e47bbd18e8fb": {
          "model_module": "@jupyter-widgets/controls",
          "model_name": "DescriptionStyleModel",
          "model_module_version": "1.5.0",
          "state": {
            "_model_module": "@jupyter-widgets/controls",
            "_model_module_version": "1.5.0",
            "_model_name": "DescriptionStyleModel",
            "_view_count": null,
            "_view_module": "@jupyter-widgets/base",
            "_view_module_version": "1.2.0",
            "_view_name": "StyleView",
            "description_width": ""
          }
        }
      }
    }
  },
  "cells": [
    {
      "cell_type": "markdown",
      "source": [
        "[![Open In Colab](https://colab.research.google.com/assets/colab-badge.svg)](https://colab.research.google.com/github/hammad-ali1/vad_clip_colab_notebook/blob/main/vadclip_feature_extraction.ipynb)"
      ],
      "metadata": {
        "id": "ex7HgrQ9-UQK"
      }
    },
    {
      "cell_type": "code",
      "source": [
        "from google.colab import drive\n",
        "drive.mount('/content/drive')"
      ],
      "metadata": {
        "colab": {
          "base_uri": "https://localhost:8080/"
        },
        "id": "tQXye8NHs8Ud",
        "outputId": "dc2c7c77-b8d7-4447-f1d4-afc3d6053537"
      },
      "execution_count": 1,
      "outputs": [
        {
          "output_type": "stream",
          "name": "stdout",
          "text": [
            "Mounted at /content/drive\n"
          ]
        }
      ]
    },
    {
      "cell_type": "code",
      "source": [
        "EXTRACTED_DATASET =  '/content/drive/MyDrive/Training-Normal-Videos-Part-1'\n",
        "SAVE_DIR = '/content/drive/MyDrive/UCFMambaClipFeatures'"
      ],
      "metadata": {
        "id": "rGDYvxjTibpd"
      },
      "execution_count": 1,
      "outputs": []
    },
    {
      "cell_type": "code",
      "source": [
        "import os\n",
        "import glob\n",
        "\n",
        "assert os.path.exists(SAVE_DIR)\n",
        "\n",
        "processed_files = len(glob.glob(os.path.join(SAVE_DIR, \"**\", \"*.npy\"), recursive=True)) // 10\n",
        "print(f'Already processed files: {processed_files}')"
      ],
      "metadata": {
        "colab": {
          "base_uri": "https://localhost:8080/"
        },
        "id": "51q-dwvasrbV",
        "outputId": "11af1b14-d709-46ab-fec9-38007feddca3"
      },
      "execution_count": 2,
      "outputs": [
        {
          "output_type": "stream",
          "name": "stdout",
          "text": [
            "Already processed files: 1367\n"
          ]
        }
      ]
    },
    {
      "cell_type": "code",
      "source": [
        "assert os.path.exists(EXTRACTED_DATASET)\n",
        "\n",
        "total_videos = len(glob.glob(os.path.join(EXTRACTED_DATASET, \"**\", \"*.mp4\"), recursive=True))\n",
        "print(f'Total Videos: {total_videos}')"
      ],
      "metadata": {
        "id": "zuhOKkYHAkKn",
        "outputId": "0d90508c-b53c-47bc-d9cb-eb37dcd2ff84",
        "colab": {
          "base_uri": "https://localhost:8080/"
        }
      },
      "execution_count": 3,
      "outputs": [
        {
          "output_type": "stream",
          "name": "stdout",
          "text": [
            "Total Videos: 430\n"
          ]
        }
      ]
    },
    {
      "cell_type": "code",
      "source": [
        "!pip -q install ftfy\n",
        "!pip -q install torch==2.4.0 torchvision==0.19.0 torchaudio==2.4.0\n",
        "!pip -q install causal-conv1d==1.4.0 && pip install mamba-ssm==2.2.2\n",
        "!pip -q install fvcore"
      ],
      "metadata": {
        "colab": {
          "base_uri": "https://localhost:8080/"
        },
        "id": "jrcS-6IkmGBu",
        "outputId": "f8d5ecc0-c412-4f3c-fb3b-7f3b870e6455"
      },
      "execution_count": 5,
      "outputs": [
        {
          "output_type": "stream",
          "name": "stdout",
          "text": [
            "\u001b[2K   \u001b[90m━━━━━━━━━━━━━━━━━━━━━━━━━━━━━━━━━━━━━━━━\u001b[0m \u001b[32m44.8/44.8 kB\u001b[0m \u001b[31m2.6 MB/s\u001b[0m eta \u001b[36m0:00:00\u001b[0m\n",
            "\u001b[2K   \u001b[90m━━━━━━━━━━━━━━━━━━━━━━━━━━━━━━━━━━━━━━━\u001b[0m \u001b[32m797.2/797.2 MB\u001b[0m \u001b[31m928.2 kB/s\u001b[0m eta \u001b[36m0:00:00\u001b[0m\n",
            "\u001b[2K   \u001b[90m━━━━━━━━━━━━━━━━━━━━━━━━━━━━━━━━━━━━━━━━\u001b[0m \u001b[32m7.0/7.0 MB\u001b[0m \u001b[31m47.5 MB/s\u001b[0m eta \u001b[36m0:00:00\u001b[0m\n",
            "\u001b[2K   \u001b[90m━━━━━━━━━━━━━━━━━━━━━━━━━━━━━━━━━━━━━━━━\u001b[0m \u001b[32m3.4/3.4 MB\u001b[0m \u001b[31m35.4 MB/s\u001b[0m eta \u001b[36m0:00:00\u001b[0m\n",
            "\u001b[2K   \u001b[90m━━━━━━━━━━━━━━━━━━━━━━━━━━━━━━━━━━━━━━━━\u001b[0m \u001b[32m410.6/410.6 MB\u001b[0m \u001b[31m4.3 MB/s\u001b[0m eta \u001b[36m0:00:00\u001b[0m\n",
            "\u001b[2K   \u001b[90m━━━━━━━━━━━━━━━━━━━━━━━━━━━━━━━━━━━━━━━━\u001b[0m \u001b[32m14.1/14.1 MB\u001b[0m \u001b[31m59.6 MB/s\u001b[0m eta \u001b[36m0:00:00\u001b[0m\n",
            "\u001b[2K   \u001b[90m━━━━━━━━━━━━━━━━━━━━━━━━━━━━━━━━━━━━━━━━\u001b[0m \u001b[32m23.7/23.7 MB\u001b[0m \u001b[31m56.3 MB/s\u001b[0m eta \u001b[36m0:00:00\u001b[0m\n",
            "\u001b[2K   \u001b[90m━━━━━━━━━━━━━━━━━━━━━━━━━━━━━━━━━━━━━━━━\u001b[0m \u001b[32m823.6/823.6 kB\u001b[0m \u001b[31m42.3 MB/s\u001b[0m eta \u001b[36m0:00:00\u001b[0m\n",
            "\u001b[2K   \u001b[90m━━━━━━━━━━━━━━━━━━━━━━━━━━━━━━━━━━━━━━━━\u001b[0m \u001b[32m664.8/664.8 MB\u001b[0m \u001b[31m2.2 MB/s\u001b[0m eta \u001b[36m0:00:00\u001b[0m\n",
            "\u001b[2K   \u001b[90m━━━━━━━━━━━━━━━━━━━━━━━━━━━━━━━━━━━━━━━━\u001b[0m \u001b[32m121.6/121.6 MB\u001b[0m \u001b[31m9.8 MB/s\u001b[0m eta \u001b[36m0:00:00\u001b[0m\n",
            "\u001b[2K   \u001b[90m━━━━━━━━━━━━━━━━━━━━━━━━━━━━━━━━━━━━━━━━\u001b[0m \u001b[32m56.5/56.5 MB\u001b[0m \u001b[31m11.1 MB/s\u001b[0m eta \u001b[36m0:00:00\u001b[0m\n",
            "\u001b[2K   \u001b[90m━━━━━━━━━━━━━━━━━━━━━━━━━━━━━━━━━━━━━━━━\u001b[0m \u001b[32m124.2/124.2 MB\u001b[0m \u001b[31m8.3 MB/s\u001b[0m eta \u001b[36m0:00:00\u001b[0m\n",
            "\u001b[2K   \u001b[90m━━━━━━━━━━━━━━━━━━━━━━━━━━━━━━━━━━━━━━━━\u001b[0m \u001b[32m196.0/196.0 MB\u001b[0m \u001b[31m6.3 MB/s\u001b[0m eta \u001b[36m0:00:00\u001b[0m\n",
            "\u001b[2K   \u001b[90m━━━━━━━━━━━━━━━━━━━━━━━━━━━━━━━━━━━━━━━━\u001b[0m \u001b[32m176.2/176.2 MB\u001b[0m \u001b[31m6.4 MB/s\u001b[0m eta \u001b[36m0:00:00\u001b[0m\n",
            "\u001b[2K   \u001b[90m━━━━━━━━━━━━━━━━━━━━━━━━━━━━━━━━━━━━━━━━\u001b[0m \u001b[32m99.1/99.1 kB\u001b[0m \u001b[31m8.5 MB/s\u001b[0m eta \u001b[36m0:00:00\u001b[0m\n",
            "\u001b[2K   \u001b[90m━━━━━━━━━━━━━━━━━━━━━━━━━━━━━━━━━━━━━━━━\u001b[0m \u001b[32m209.5/209.5 MB\u001b[0m \u001b[31m5.0 MB/s\u001b[0m eta \u001b[36m0:00:00\u001b[0m\n",
            "\u001b[?25h  Preparing metadata (setup.py) ... \u001b[?25l\u001b[?25hdone\n",
            "\u001b[2K   \u001b[90m━━━━━━━━━━━━━━━━━━━━━━━━━━━━━━━━━━━━━━━━\u001b[0m \u001b[32m180.7/180.7 kB\u001b[0m \u001b[31m6.0 MB/s\u001b[0m eta \u001b[36m0:00:00\u001b[0m\n",
            "\u001b[?25h  Building wheel for causal-conv1d (setup.py) ... \u001b[?25l\u001b[?25hdone\n",
            "Collecting mamba-ssm==2.2.2\n",
            "  Downloading mamba_ssm-2.2.2.tar.gz (85 kB)\n",
            "\u001b[2K     \u001b[90m━━━━━━━━━━━━━━━━━━━━━━━━━━━━━━━━━━━━━━━━\u001b[0m \u001b[32m85.4/85.4 kB\u001b[0m \u001b[31m3.8 MB/s\u001b[0m eta \u001b[36m0:00:00\u001b[0m\n",
            "\u001b[?25h  Preparing metadata (setup.py) ... \u001b[?25l\u001b[?25hdone\n",
            "Requirement already satisfied: torch in /usr/local/lib/python3.12/dist-packages (from mamba-ssm==2.2.2) (2.4.0)\n",
            "Requirement already satisfied: packaging in /usr/local/lib/python3.12/dist-packages (from mamba-ssm==2.2.2) (25.0)\n",
            "Requirement already satisfied: ninja in /usr/local/lib/python3.12/dist-packages (from mamba-ssm==2.2.2) (1.13.0)\n",
            "Requirement already satisfied: einops in /usr/local/lib/python3.12/dist-packages (from mamba-ssm==2.2.2) (0.8.1)\n",
            "Requirement already satisfied: triton in /usr/local/lib/python3.12/dist-packages (from mamba-ssm==2.2.2) (3.0.0)\n",
            "Requirement already satisfied: transformers in /usr/local/lib/python3.12/dist-packages (from mamba-ssm==2.2.2) (4.55.4)\n",
            "Requirement already satisfied: filelock in /usr/local/lib/python3.12/dist-packages (from torch->mamba-ssm==2.2.2) (3.19.1)\n",
            "Requirement already satisfied: typing-extensions>=4.8.0 in /usr/local/lib/python3.12/dist-packages (from torch->mamba-ssm==2.2.2) (4.15.0)\n",
            "Requirement already satisfied: sympy in /usr/local/lib/python3.12/dist-packages (from torch->mamba-ssm==2.2.2) (1.13.3)\n",
            "Requirement already satisfied: networkx in /usr/local/lib/python3.12/dist-packages (from torch->mamba-ssm==2.2.2) (3.5)\n",
            "Requirement already satisfied: jinja2 in /usr/local/lib/python3.12/dist-packages (from torch->mamba-ssm==2.2.2) (3.1.6)\n",
            "Requirement already satisfied: fsspec in /usr/local/lib/python3.12/dist-packages (from torch->mamba-ssm==2.2.2) (2025.3.0)\n",
            "Requirement already satisfied: setuptools in /usr/local/lib/python3.12/dist-packages (from torch->mamba-ssm==2.2.2) (75.2.0)\n",
            "Requirement already satisfied: nvidia-cuda-nvrtc-cu12==12.1.105 in /usr/local/lib/python3.12/dist-packages (from torch->mamba-ssm==2.2.2) (12.1.105)\n",
            "Requirement already satisfied: nvidia-cuda-runtime-cu12==12.1.105 in /usr/local/lib/python3.12/dist-packages (from torch->mamba-ssm==2.2.2) (12.1.105)\n",
            "Requirement already satisfied: nvidia-cuda-cupti-cu12==12.1.105 in /usr/local/lib/python3.12/dist-packages (from torch->mamba-ssm==2.2.2) (12.1.105)\n",
            "Requirement already satisfied: nvidia-cudnn-cu12==9.1.0.70 in /usr/local/lib/python3.12/dist-packages (from torch->mamba-ssm==2.2.2) (9.1.0.70)\n",
            "Requirement already satisfied: nvidia-cublas-cu12==12.1.3.1 in /usr/local/lib/python3.12/dist-packages (from torch->mamba-ssm==2.2.2) (12.1.3.1)\n",
            "Requirement already satisfied: nvidia-cufft-cu12==11.0.2.54 in /usr/local/lib/python3.12/dist-packages (from torch->mamba-ssm==2.2.2) (11.0.2.54)\n",
            "Requirement already satisfied: nvidia-curand-cu12==10.3.2.106 in /usr/local/lib/python3.12/dist-packages (from torch->mamba-ssm==2.2.2) (10.3.2.106)\n",
            "Requirement already satisfied: nvidia-cusolver-cu12==11.4.5.107 in /usr/local/lib/python3.12/dist-packages (from torch->mamba-ssm==2.2.2) (11.4.5.107)\n",
            "Requirement already satisfied: nvidia-cusparse-cu12==12.1.0.106 in /usr/local/lib/python3.12/dist-packages (from torch->mamba-ssm==2.2.2) (12.1.0.106)\n",
            "Requirement already satisfied: nvidia-nccl-cu12==2.20.5 in /usr/local/lib/python3.12/dist-packages (from torch->mamba-ssm==2.2.2) (2.20.5)\n",
            "Requirement already satisfied: nvidia-nvtx-cu12==12.1.105 in /usr/local/lib/python3.12/dist-packages (from torch->mamba-ssm==2.2.2) (12.1.105)\n",
            "Requirement already satisfied: nvidia-nvjitlink-cu12 in /usr/local/lib/python3.12/dist-packages (from nvidia-cusolver-cu12==11.4.5.107->torch->mamba-ssm==2.2.2) (12.6.85)\n",
            "Requirement already satisfied: huggingface-hub<1.0,>=0.34.0 in /usr/local/lib/python3.12/dist-packages (from transformers->mamba-ssm==2.2.2) (0.34.4)\n",
            "Requirement already satisfied: numpy>=1.17 in /usr/local/lib/python3.12/dist-packages (from transformers->mamba-ssm==2.2.2) (2.0.2)\n",
            "Requirement already satisfied: pyyaml>=5.1 in /usr/local/lib/python3.12/dist-packages (from transformers->mamba-ssm==2.2.2) (6.0.2)\n",
            "Requirement already satisfied: regex!=2019.12.17 in /usr/local/lib/python3.12/dist-packages (from transformers->mamba-ssm==2.2.2) (2024.11.6)\n",
            "Requirement already satisfied: requests in /usr/local/lib/python3.12/dist-packages (from transformers->mamba-ssm==2.2.2) (2.32.4)\n",
            "Requirement already satisfied: tokenizers<0.22,>=0.21 in /usr/local/lib/python3.12/dist-packages (from transformers->mamba-ssm==2.2.2) (0.21.4)\n",
            "Requirement already satisfied: safetensors>=0.4.3 in /usr/local/lib/python3.12/dist-packages (from transformers->mamba-ssm==2.2.2) (0.6.2)\n",
            "Requirement already satisfied: tqdm>=4.27 in /usr/local/lib/python3.12/dist-packages (from transformers->mamba-ssm==2.2.2) (4.67.1)\n",
            "Requirement already satisfied: hf-xet<2.0.0,>=1.1.3 in /usr/local/lib/python3.12/dist-packages (from huggingface-hub<1.0,>=0.34.0->transformers->mamba-ssm==2.2.2) (1.1.8)\n",
            "Requirement already satisfied: MarkupSafe>=2.0 in /usr/local/lib/python3.12/dist-packages (from jinja2->torch->mamba-ssm==2.2.2) (3.0.2)\n",
            "Requirement already satisfied: charset_normalizer<4,>=2 in /usr/local/lib/python3.12/dist-packages (from requests->transformers->mamba-ssm==2.2.2) (3.4.3)\n",
            "Requirement already satisfied: idna<4,>=2.5 in /usr/local/lib/python3.12/dist-packages (from requests->transformers->mamba-ssm==2.2.2) (3.10)\n",
            "Requirement already satisfied: urllib3<3,>=1.21.1 in /usr/local/lib/python3.12/dist-packages (from requests->transformers->mamba-ssm==2.2.2) (2.5.0)\n",
            "Requirement already satisfied: certifi>=2017.4.17 in /usr/local/lib/python3.12/dist-packages (from requests->transformers->mamba-ssm==2.2.2) (2025.8.3)\n",
            "Requirement already satisfied: mpmath<1.4,>=1.1.0 in /usr/local/lib/python3.12/dist-packages (from sympy->torch->mamba-ssm==2.2.2) (1.3.0)\n",
            "Building wheels for collected packages: mamba-ssm\n",
            "  Building wheel for mamba-ssm (setup.py) ... \u001b[?25l\u001b[?25hdone\n",
            "  Created wheel for mamba-ssm: filename=mamba_ssm-2.2.2-cp312-cp312-linux_x86_64.whl size=324005633 sha256=f4cf06585ac28c783dbe6fe357c64218415af3665c3c06106be8f86dab69b2a8\n",
            "  Stored in directory: /root/.cache/pip/wheels/5f/b8/99/4112d82fe2a9458dd194c3ff54c43a14a8594c8f90cf16046f\n",
            "Successfully built mamba-ssm\n",
            "Installing collected packages: mamba-ssm\n",
            "Successfully installed mamba-ssm-2.2.2\n",
            "\u001b[2K     \u001b[90m━━━━━━━━━━━━━━━━━━━━━━━━━━━━━━━━━━━━━━━━\u001b[0m \u001b[32m50.2/50.2 kB\u001b[0m \u001b[31m3.0 MB/s\u001b[0m eta \u001b[36m0:00:00\u001b[0m\n",
            "\u001b[?25h  Preparing metadata (setup.py) ... \u001b[?25l\u001b[?25hdone\n",
            "\u001b[2K     \u001b[90m━━━━━━━━━━━━━━━━━━━━━━━━━━━━━━━━━━━━━━━━\u001b[0m \u001b[32m42.2/42.2 kB\u001b[0m \u001b[31m3.9 MB/s\u001b[0m eta \u001b[36m0:00:00\u001b[0m\n",
            "\u001b[?25h  Preparing metadata (setup.py) ... \u001b[?25l\u001b[?25hdone\n",
            "  Building wheel for fvcore (setup.py) ... \u001b[?25l\u001b[?25hdone\n",
            "  Building wheel for iopath (setup.py) ... \u001b[?25l\u001b[?25hdone\n"
          ]
        }
      ]
    },
    {
      "cell_type": "code",
      "source": [
        "#@title Pull Latest Repo\n",
        "from google.colab import userdata\n",
        "from pathlib import Path\n",
        "\n",
        "try:\n",
        "  gh_token = userdata.get('vad_clip_gh_token')\n",
        "except Exception:\n",
        "  gh_token = None\n",
        "\n",
        "REPO_NAME = \"vad_clip_colab_notebook\"\n",
        "REPO_PATH = Path(\"/content\") / REPO_NAME\n",
        "\n",
        "if gh_token:\n",
        "  GITHUB_URL = f\"https://{gh_token}@github.com/hammad-ali1/{REPO_NAME}.git\"\n",
        "else:\n",
        "  GITHUB_URL = f'https://github.com/hammad-ali1/{REPO_NAME}'\n",
        "\n",
        "!rm -rf {REPO_PATH}\n",
        "!git clone {GITHUB_URL}\n",
        "\n",
        "!cp -r {REPO_PATH}/* /content"
      ],
      "metadata": {
        "id": "0cJMfyytNQfU",
        "cellView": "form",
        "outputId": "4a4db175-eb61-4379-81c4-c4b64f026e74",
        "colab": {
          "base_uri": "https://localhost:8080/"
        }
      },
      "execution_count": 6,
      "outputs": [
        {
          "output_type": "stream",
          "name": "stdout",
          "text": [
            "Cloning into 'vad_clip_colab_notebook'...\n",
            "remote: Enumerating objects: 238, done.\u001b[K\n",
            "remote: Counting objects: 100% (238/238), done.\u001b[K\n",
            "remote: Compressing objects: 100% (158/158), done.\u001b[K\n",
            "remote: Total 238 (delta 125), reused 157 (delta 76), pack-reused 0 (from 0)\u001b[K\n",
            "Receiving objects: 100% (238/238), 3.42 MiB | 3.80 MiB/s, done.\n",
            "Resolving deltas: 100% (125/125), done.\n"
          ]
        }
      ]
    },
    {
      "cell_type": "code",
      "source": [
        "!cd /content/vmamba/kernels/selective_scan && pip install ."
      ],
      "metadata": {
        "id": "T3zisgXJi8GP",
        "outputId": "2dfd7678-7237-49b6-ffe9-664ce6931d6d",
        "colab": {
          "base_uri": "https://localhost:8080/"
        }
      },
      "execution_count": 7,
      "outputs": [
        {
          "output_type": "stream",
          "name": "stdout",
          "text": [
            "Processing /content/vmamba/kernels/selective_scan\n",
            "  Preparing metadata (setup.py) ... \u001b[?25l\u001b[?25hdone\n",
            "Requirement already satisfied: torch in /usr/local/lib/python3.12/dist-packages (from selective_scan==0.0.2) (2.4.0)\n",
            "Requirement already satisfied: packaging in /usr/local/lib/python3.12/dist-packages (from selective_scan==0.0.2) (25.0)\n",
            "Requirement already satisfied: ninja in /usr/local/lib/python3.12/dist-packages (from selective_scan==0.0.2) (1.13.0)\n",
            "Requirement already satisfied: einops in /usr/local/lib/python3.12/dist-packages (from selective_scan==0.0.2) (0.8.1)\n",
            "Requirement already satisfied: filelock in /usr/local/lib/python3.12/dist-packages (from torch->selective_scan==0.0.2) (3.19.1)\n",
            "Requirement already satisfied: typing-extensions>=4.8.0 in /usr/local/lib/python3.12/dist-packages (from torch->selective_scan==0.0.2) (4.15.0)\n",
            "Requirement already satisfied: sympy in /usr/local/lib/python3.12/dist-packages (from torch->selective_scan==0.0.2) (1.13.3)\n",
            "Requirement already satisfied: networkx in /usr/local/lib/python3.12/dist-packages (from torch->selective_scan==0.0.2) (3.5)\n",
            "Requirement already satisfied: jinja2 in /usr/local/lib/python3.12/dist-packages (from torch->selective_scan==0.0.2) (3.1.6)\n",
            "Requirement already satisfied: fsspec in /usr/local/lib/python3.12/dist-packages (from torch->selective_scan==0.0.2) (2025.3.0)\n",
            "Requirement already satisfied: setuptools in /usr/local/lib/python3.12/dist-packages (from torch->selective_scan==0.0.2) (75.2.0)\n",
            "Requirement already satisfied: nvidia-cuda-nvrtc-cu12==12.1.105 in /usr/local/lib/python3.12/dist-packages (from torch->selective_scan==0.0.2) (12.1.105)\n",
            "Requirement already satisfied: nvidia-cuda-runtime-cu12==12.1.105 in /usr/local/lib/python3.12/dist-packages (from torch->selective_scan==0.0.2) (12.1.105)\n",
            "Requirement already satisfied: nvidia-cuda-cupti-cu12==12.1.105 in /usr/local/lib/python3.12/dist-packages (from torch->selective_scan==0.0.2) (12.1.105)\n",
            "Requirement already satisfied: nvidia-cudnn-cu12==9.1.0.70 in /usr/local/lib/python3.12/dist-packages (from torch->selective_scan==0.0.2) (9.1.0.70)\n",
            "Requirement already satisfied: nvidia-cublas-cu12==12.1.3.1 in /usr/local/lib/python3.12/dist-packages (from torch->selective_scan==0.0.2) (12.1.3.1)\n",
            "Requirement already satisfied: nvidia-cufft-cu12==11.0.2.54 in /usr/local/lib/python3.12/dist-packages (from torch->selective_scan==0.0.2) (11.0.2.54)\n",
            "Requirement already satisfied: nvidia-curand-cu12==10.3.2.106 in /usr/local/lib/python3.12/dist-packages (from torch->selective_scan==0.0.2) (10.3.2.106)\n",
            "Requirement already satisfied: nvidia-cusolver-cu12==11.4.5.107 in /usr/local/lib/python3.12/dist-packages (from torch->selective_scan==0.0.2) (11.4.5.107)\n",
            "Requirement already satisfied: nvidia-cusparse-cu12==12.1.0.106 in /usr/local/lib/python3.12/dist-packages (from torch->selective_scan==0.0.2) (12.1.0.106)\n",
            "Requirement already satisfied: nvidia-nccl-cu12==2.20.5 in /usr/local/lib/python3.12/dist-packages (from torch->selective_scan==0.0.2) (2.20.5)\n",
            "Requirement already satisfied: nvidia-nvtx-cu12==12.1.105 in /usr/local/lib/python3.12/dist-packages (from torch->selective_scan==0.0.2) (12.1.105)\n",
            "Requirement already satisfied: triton==3.0.0 in /usr/local/lib/python3.12/dist-packages (from torch->selective_scan==0.0.2) (3.0.0)\n",
            "Requirement already satisfied: nvidia-nvjitlink-cu12 in /usr/local/lib/python3.12/dist-packages (from nvidia-cusolver-cu12==11.4.5.107->torch->selective_scan==0.0.2) (12.6.85)\n",
            "Requirement already satisfied: MarkupSafe>=2.0 in /usr/local/lib/python3.12/dist-packages (from jinja2->torch->selective_scan==0.0.2) (3.0.2)\n",
            "Requirement already satisfied: mpmath<1.4,>=1.1.0 in /usr/local/lib/python3.12/dist-packages (from sympy->torch->selective_scan==0.0.2) (1.3.0)\n",
            "Building wheels for collected packages: selective_scan\n",
            "  Building wheel for selective_scan (setup.py) ... \u001b[?25l\u001b[?25hdone\n",
            "  Created wheel for selective_scan: filename=selective_scan-0.0.2-cp312-cp312-linux_x86_64.whl size=9294019 sha256=ddf8a80bf33cd0c01185a0611ae7984e0e48bc428d059df08f6a4ae11a5e609d\n",
            "  Stored in directory: /tmp/pip-ephem-wheel-cache-7giqw8m8/wheels/e0/f2/5a/bfc38021b58688bf7ba0131e4895249de8417294087d81d6bb\n",
            "Successfully built selective_scan\n",
            "Installing collected packages: selective_scan\n",
            "Successfully installed selective_scan-0.0.2\n"
          ]
        }
      ]
    },
    {
      "cell_type": "code",
      "source": [
        "import torch\n",
        "from torchvision.transforms import Compose, Resize, CenterCrop, ToTensor, Normalize\n",
        "\n",
        "import gc\n",
        "from collections import OrderedDict\n",
        "\n",
        "from models import CLIP_VMamba_S\n",
        "\n",
        "import cv2\n",
        "import numpy as np\n",
        "from PIL import Image\n",
        "from tqdm.auto import tqdm"
      ],
      "metadata": {
        "id": "jO009vqFOCPc",
        "outputId": "ec7a0afa-87c9-4768-962e-02fa4e2f8c8b",
        "colab": {
          "base_uri": "https://localhost:8080/"
        }
      },
      "execution_count": 3,
      "outputs": [
        {
          "output_type": "stream",
          "name": "stderr",
          "text": [
            "/usr/local/lib/python3.12/dist-packages/timm/models/registry.py:4: FutureWarning: Importing from timm.models.registry is deprecated, please import via timm.models\n",
            "  warnings.warn(f\"Importing from {__name__} is deprecated, please import via timm.models\", FutureWarning)\n",
            "/usr/local/lib/python3.12/dist-packages/timm/models/layers/__init__.py:48: FutureWarning: Importing from timm.models.layers is deprecated, please import via timm.layers\n",
            "  warnings.warn(f\"Importing from {__name__} is deprecated, please import via timm.layers\", FutureWarning)\n",
            "/usr/local/lib/python3.12/dist-packages/mamba_ssm/ops/selective_scan_interface.py:163: FutureWarning: `torch.cuda.amp.custom_fwd(args...)` is deprecated. Please use `torch.amp.custom_fwd(args..., device_type='cuda')` instead.\n",
            "  @custom_fwd\n",
            "/usr/local/lib/python3.12/dist-packages/mamba_ssm/ops/selective_scan_interface.py:239: FutureWarning: `torch.cuda.amp.custom_bwd(args...)` is deprecated. Please use `torch.amp.custom_bwd(args..., device_type='cuda')` instead.\n",
            "  @custom_bwd\n",
            "/usr/local/lib/python3.12/dist-packages/mamba_ssm/ops/triton/layer_norm.py:985: FutureWarning: `torch.cuda.amp.custom_fwd(args...)` is deprecated. Please use `torch.amp.custom_fwd(args..., device_type='cuda')` instead.\n",
            "  @custom_fwd\n",
            "/usr/local/lib/python3.12/dist-packages/mamba_ssm/ops/triton/layer_norm.py:1044: FutureWarning: `torch.cuda.amp.custom_bwd(args...)` is deprecated. Please use `torch.amp.custom_bwd(args..., device_type='cuda')` instead.\n",
            "  @custom_bwd\n",
            "/usr/local/lib/python3.12/dist-packages/mamba_ssm/distributed/tensor_parallel.py:25: FutureWarning: `torch.cuda.amp.custom_fwd(args...)` is deprecated. Please use `torch.amp.custom_fwd(args..., device_type='cuda')` instead.\n",
            "  @custom_fwd\n",
            "/usr/local/lib/python3.12/dist-packages/mamba_ssm/distributed/tensor_parallel.py:61: FutureWarning: `torch.cuda.amp.custom_bwd(args...)` is deprecated. Please use `torch.amp.custom_bwd(args..., device_type='cuda')` instead.\n",
            "  @custom_bwd\n",
            "/usr/local/lib/python3.12/dist-packages/mamba_ssm/ops/triton/ssd_combined.py:757: FutureWarning: `torch.cuda.amp.custom_fwd(args...)` is deprecated. Please use `torch.amp.custom_fwd(args..., device_type='cuda')` instead.\n",
            "  @custom_fwd\n",
            "/usr/local/lib/python3.12/dist-packages/mamba_ssm/ops/triton/ssd_combined.py:835: FutureWarning: `torch.cuda.amp.custom_bwd(args...)` is deprecated. Please use `torch.amp.custom_bwd(args..., device_type='cuda')` instead.\n",
            "  @custom_bwd\n"
          ]
        }
      ]
    },
    {
      "cell_type": "code",
      "source": [
        "def video_crop(video_frame, type):\n",
        "    l = video_frame.shape[0]\n",
        "    new_frame = []\n",
        "    for i in range(l):\n",
        "        img = cv2.resize(video_frame[i], dsize=(340, 256))\n",
        "        new_frame.append(cv2.cvtColor(img, cv2.COLOR_BGR2RGB))\n",
        "\n",
        "    #1\n",
        "    img = np.array(new_frame)\n",
        "    if type == 0:\n",
        "        img = img[:, 16:240, 58:282, :]\n",
        "    #2\n",
        "    elif type == 1:\n",
        "        img = img[:, :224, :224, :]\n",
        "    #3\n",
        "    elif type == 2:\n",
        "        img = img[:, :224, -224:, :]\n",
        "    #4\n",
        "    elif type == 3:\n",
        "        img = img[:, -224:, :224, :]\n",
        "    #5\n",
        "    elif type == 4:\n",
        "        img = img[:, -224:, -224:, :]\n",
        "    #6\n",
        "    elif type == 5:\n",
        "        img = img[:, 16:240, 58:282, :]\n",
        "        for i in range(img.shape[0]):\n",
        "            img[i] = cv2.flip(img[i], 1)\n",
        "    #7\n",
        "    elif type == 6:\n",
        "        img = img[:, :224, :224, :]\n",
        "        for i in range(img.shape[0]):\n",
        "            img[i] = cv2.flip(img[i], 1)\n",
        "    #8\n",
        "    elif type == 7:\n",
        "        img = img[:, :224, -224:, :]\n",
        "        for i in range(img.shape[0]):\n",
        "            img[i] = cv2.flip(img[i], 1)\n",
        "    #9\n",
        "    elif type == 8:\n",
        "        img = img[:, -224:, :224, :]\n",
        "        for i in range(img.shape[0]):\n",
        "            img[i] = cv2.flip(img[i], 1)\n",
        "    #10\n",
        "    elif type == 9:\n",
        "        img = img[:, -224:, -224:, :]\n",
        "        for i in range(img.shape[0]):\n",
        "            img[i] = cv2.flip(img[i], 1)\n",
        "\n",
        "    return img\n",
        "\n",
        "def image_crop(image, type):\n",
        "    img = cv2.resize(image, dsize=(340, 256))\n",
        "    img = cv2.cvtColor(img, cv2.COLOR_BGR2RGB)\n",
        "    #1\n",
        "    if type == 0:\n",
        "        img = img[16:240, 58:282, :]\n",
        "    #2\n",
        "    elif type == 1:\n",
        "        img = img[:224, :224, :]\n",
        "    #3\n",
        "    elif type == 2:\n",
        "        img = img[:224, -224:, :]\n",
        "    #4\n",
        "    elif type == 3:\n",
        "        img = img[-224:, :224, :]\n",
        "    #5\n",
        "    elif type == 4:\n",
        "        img = img[-224:, -224:, :]\n",
        "    #6\n",
        "    elif type == 5:\n",
        "        img = img[16:240, 58:282, :]\n",
        "        img = cv2.flip(img, 1)\n",
        "    #7\n",
        "    elif type == 6:\n",
        "        img = img[:224, :224, :]\n",
        "        img = cv2.flip(img, 1)\n",
        "    #8\n",
        "    elif type == 7:\n",
        "        img = img[:224, -224:, :]\n",
        "        img = cv2.flip(img, 1)\n",
        "    #9\n",
        "    elif type == 8:\n",
        "        img = img[-224:, :224, :]\n",
        "        img = cv2.flip(img, 1)\n",
        "    #10\n",
        "    elif type == 9:\n",
        "        img = img[-224:, -224:, :]\n",
        "        img = cv2.flip(img, 1)\n",
        "\n",
        "    return img"
      ],
      "metadata": {
        "id": "Kc5DHlAUjBk1"
      },
      "execution_count": 4,
      "outputs": []
    },
    {
      "cell_type": "code",
      "source": [
        "def _sample_frames_nonoverlap(video_path, stride=16, pick='center'):\n",
        "    \"\"\"\n",
        "    Return one frame per non-overlapping `stride`-frame chunk.\n",
        "    pick: 'center' | 'first' | 'last'\n",
        "    - For stride=16, 'center' -> index 7 (0-based) so you'll get floor(T/16) frames.\n",
        "    \"\"\"\n",
        "    assert stride >= 1\n",
        "    cap = cv2.VideoCapture(video_path)\n",
        "    sampled = []\n",
        "    chunk = []\n",
        "    center_idx = (stride // 2 - 1) if (stride % 2 == 0) else (stride // 2)\n",
        "\n",
        "    while True:\n",
        "        ret, frame = cap.read()\n",
        "        if not ret:\n",
        "            break\n",
        "        chunk.append(frame)\n",
        "        if len(chunk) == stride:\n",
        "            if pick == 'center':\n",
        "                idx = center_idx\n",
        "            elif pick == 'first':\n",
        "                idx = 0\n",
        "            elif pick == 'last':\n",
        "                idx = stride - 1\n",
        "            else:\n",
        "                raise ValueError(f\"Unknown pick='{pick}'\")\n",
        "            sampled.append(chunk[idx])\n",
        "            chunk.clear()\n",
        "\n",
        "    cap.release()\n",
        "    if len(sampled) == 0:\n",
        "        return np.empty((0,), dtype=object)\n",
        "    return np.array(sampled)  # shape: (floor(T/stride), H, W, C)\n",
        "\n",
        "\n",
        "def extract_clip_features(video_path, save_dir, model, preprocess, device,\n",
        "                          stride=16, pick='center', batch_size=128):\n",
        "    # --- prepare output paths ---\n",
        "    video_name = os.path.splitext(os.path.basename(video_path))[0]\n",
        "    parent_dir = os.path.basename(os.path.dirname(video_path))\n",
        "    out_parent = os.path.join(save_dir, parent_dir)\n",
        "    os.makedirs(out_parent, exist_ok=True)\n",
        "\n",
        "    # --- skip if all crops exist ---\n",
        "    if all(os.path.exists(os.path.join(out_parent, f\"{video_name}__{c}.npy\")) for c in range(10)):\n",
        "        return\n",
        "\n",
        "    # --- sample frames exactly floor(T/stride) ---\n",
        "    frames = _sample_frames_nonoverlap(video_path, stride=stride, pick=pick)\n",
        "    if frames.size == 0:\n",
        "        raise ValueError(f\"No frames found (after sampling) in {video_path}\")\n",
        "\n",
        "    for crop_type in tqdm(range(10),\n",
        "                          desc=f\"Video: {video_name}\",\n",
        "                          unit=\"crop\",\n",
        "                          position=1,\n",
        "                          leave=False,\n",
        "                          dynamic_ncols=True):\n",
        "        save_path = os.path.join(out_parent, f\"{video_name}__{crop_type}.npy\")\n",
        "        if os.path.exists(save_path):\n",
        "            continue\n",
        "\n",
        "        cropped_frames = video_crop(frames, crop_type)  # expects (N, H, W, C)\n",
        "\n",
        "        video_features = []\n",
        "        pbar = tqdm(total=len(cropped_frames),\n",
        "                    desc=f\"Crop {crop_type}\",\n",
        "                    unit=\"frame\",\n",
        "                    position=2,\n",
        "                    leave=False,\n",
        "                    dynamic_ncols=True)\n",
        "\n",
        "        with torch.no_grad():\n",
        "            for i in range(0, len(cropped_frames), batch_size):\n",
        "                batch_frames = cropped_frames[i:i+batch_size]\n",
        "\n",
        "                batch_tensors = [preprocess(Image.fromarray(f)) for f in batch_frames]\n",
        "                batch_tensors = torch.stack(batch_tensors).to(device)\n",
        "\n",
        "                # Encode\n",
        "                feats = model.encode_image(batch_tensors)\n",
        "                video_features.append(feats.cpu().numpy())\n",
        "\n",
        "                pbar.update(len(batch_frames))\n",
        "\n",
        "                # Free GPU memory\n",
        "                # del batch_tensors, feats\n",
        "                # torch.cuda.empty_cache()\n",
        "                # gc.collect()\n",
        "\n",
        "        pbar.close()\n",
        "\n",
        "        video_features = np.vstack(video_features)  # (T, 512)\n",
        "        np.save(save_path, video_features)"
      ],
      "metadata": {
        "id": "7-zo1DFsnbDN"
      },
      "execution_count": 14,
      "outputs": []
    },
    {
      "cell_type": "code",
      "source": [
        "import itertools\n",
        "\n",
        "\n",
        "def _get_frame_count(video_path):\n",
        "    \"\"\"Efficiently gets the total number of frames in a video.\"\"\"\n",
        "    cap = cv2.VideoCapture(video_path)\n",
        "    if not cap.isOpened():\n",
        "        return 0\n",
        "    frame_count = int(cap.get(cv2.CAP_PROP_FRAME_COUNT))\n",
        "    cap.release()\n",
        "    return frame_count\n",
        "\n",
        "\n",
        "def _generate_sampled_frames(video_path, stride=16, pick='center'):\n",
        "    \"\"\"\n",
        "    A generator that yields one frame per non-overlapping `stride`-frame chunk.\n",
        "    This avoids loading the entire video into memory.\n",
        "    \"\"\"\n",
        "    assert stride >= 1\n",
        "    cap = cv2.VideoCapture(video_path)\n",
        "    if not cap.isOpened():\n",
        "        raise IOError(f\"Cannot open video file: {video_path}\")\n",
        "\n",
        "    center_idx = (stride // 2 - 1) if (stride % 2 == 0) else (stride // 2)\n",
        "    pick_offset = {'center': center_idx, 'first': 0, 'last': stride - 1}[pick]\n",
        "\n",
        "    frame_num = 0\n",
        "    while True:\n",
        "        # Set the position to the exact frame we want to sample\n",
        "        cap.set(cv2.CAP_PROP_POS_FRAMES, frame_num * stride + pick_offset)\n",
        "        ret, frame = cap.read()\n",
        "        if not ret:\n",
        "            break\n",
        "        yield frame\n",
        "        frame_num += 1\n",
        "\n",
        "    cap.release()\n",
        "\n",
        "\n",
        "def extract_clip_features_optimized(video_path, save_dir, model, preprocess, device,\n",
        "                                    stride=16, pick='center', batch_size=128):\n",
        "    \"\"\"\n",
        "    Extracts CLIP features by processing the video in memory-efficient batches.\n",
        "    \"\"\"\n",
        "    # --- prepare output paths ---\n",
        "    video_name = os.path.splitext(os.path.basename(video_path))[0]\n",
        "    parent_dir = os.path.basename(os.path.dirname(video_path))\n",
        "    out_parent = os.path.join(save_dir, parent_dir)\n",
        "    os.makedirs(out_parent, exist_ok=True)\n",
        "\n",
        "    # --- skip if all crops exist ---\n",
        "    if all(os.path.exists(os.path.join(out_parent, f\"{video_name}__{c}.npy\")) for c in range(10)):\n",
        "        print(f\"Skipping {video_name}, features already exist.\")\n",
        "        return\n",
        "\n",
        "    # A list of lists, where each inner list will store feature chunks for a crop type.\n",
        "    features_per_crop = [[] for _ in range(10)]\n",
        "\n",
        "    total_sampled_frames = _get_frame_count(video_path) // stride\n",
        "    if total_sampled_frames == 0:\n",
        "        print(f\"Warning: No frames could be sampled from {video_path}\")\n",
        "        return\n",
        "\n",
        "    frame_generator = _generate_sampled_frames(video_path, stride=stride, pick=pick)\n",
        "\n",
        "    with tqdm(total=total_sampled_frames, desc=f\"Video: {video_name}\", unit=\"frame\") as pbar:\n",
        "        while True:\n",
        "            # --- Pull a batch of frames from the generator ---\n",
        "            batch_frames_list = list(itertools.islice(frame_generator, batch_size))\n",
        "\n",
        "            if not batch_frames_list:\n",
        "                break\n",
        "\n",
        "            batch_frames_np = np.array(batch_frames_list)\n",
        "\n",
        "            # --- Process this batch for all 10 crops ---\n",
        "            for crop_type in range(10):\n",
        "                cropped_frames = video_crop(batch_frames_np, crop_type)\n",
        "\n",
        "                batch_tensors = [preprocess(Image.fromarray(f)) for f in cropped_frames]\n",
        "                batch_tensors = torch.stack(batch_tensors).to(device)\n",
        "\n",
        "                with torch.no_grad():\n",
        "                    feats = model.encode_image(batch_tensors)\n",
        "\n",
        "                features_per_crop[crop_type].append(feats.cpu().numpy())\n",
        "\n",
        "            pbar.update(len(batch_frames_list))\n",
        "\n",
        "    # --- After processing all batches, save the results ---\n",
        "    for crop_type in range(10):\n",
        "        save_path = os.path.join(out_parent, f\"{video_name}__{crop_type}.npy\")\n",
        "\n",
        "        if features_per_crop[crop_type]:\n",
        "            video_features = np.vstack(features_per_crop[crop_type])\n",
        "            np.save(save_path, video_features)"
      ],
      "metadata": {
        "id": "eLk89hHmztxJ"
      },
      "execution_count": 18,
      "outputs": []
    },
    {
      "cell_type": "code",
      "source": [
        "def extract_dataset_features(dataset_dir, save_dir, model, preprocess, device):\n",
        "    # find all mp4 files recursively\n",
        "    video_files = glob.glob(os.path.join(dataset_dir, \"**\", \"*.mp4\"), recursive=True)\n",
        "    video_files.sort()  # stable ordering\n",
        "\n",
        "    print(f\"Found {len(video_files)} videos in {dataset_dir}\")\n",
        "\n",
        "    for video_path in tqdm(video_files, desc=\"Dataset\", unit=\"video\", position=0):\n",
        "        try:\n",
        "            if _get_frame_count(video_path) > 10000:\n",
        "              feature_extractor = extract_clip_features_optimized\n",
        "            else:\n",
        "              feature_extractor = extract_clip_features\n",
        "\n",
        "          feature_extractor(\n",
        "                  video_path=video_path,\n",
        "                  save_dir=save_dir,\n",
        "                  model=model,\n",
        "                  preprocess=preprocess,\n",
        "                  device=device\n",
        "              )\n",
        "        except Exception as e:\n",
        "            print(f\"⚠️ Error processing {video_path}: {e}\")\n"
      ],
      "metadata": {
        "id": "cqgOZ39RtVQH"
      },
      "execution_count": 6,
      "outputs": []
    },
    {
      "cell_type": "code",
      "source": [
        "def load_clip_model():\n",
        "  !curl -L -o VMamba_S_clip.pt \"https://huggingface.co/weiquan/mamba-clip/resolve/main/VMamba_S_clip.pt?download=true\"\n",
        "\n",
        "  mamba_clip_model = CLIP_VMamba_S()\n",
        "\n",
        "  ckpt_path = \"VMamba_S_clip.pt\"\n",
        "\n",
        "  ckpt = torch.load(ckpt_path, map_location='cpu', weights_only=False)\n",
        "  state_dict = OrderedDict()\n",
        "  for k, v in ckpt['state_dict'].items():\n",
        "      state_dict[k.replace('module.', '')] = v\n",
        "\n",
        "  mamba_clip_model.load_state_dict(state_dict, strict=True)\n",
        "\n",
        "  return mamba_clip_model"
      ],
      "metadata": {
        "id": "vK4fB0AINZgb"
      },
      "execution_count": 7,
      "outputs": []
    },
    {
      "cell_type": "code",
      "source": [
        "try:\n",
        "    from torchvision.transforms import InterpolationMode\n",
        "    BICUBIC = InterpolationMode.BICUBIC\n",
        "except ImportError:\n",
        "    BICUBIC = Image.BICUBIC"
      ],
      "metadata": {
        "id": "gXAj3EvbQEDA"
      },
      "execution_count": 8,
      "outputs": []
    },
    {
      "cell_type": "code",
      "source": [
        "def _convert_image_to_rgb(image):\n",
        "    return image.convert(\"RGB\")\n",
        "\n",
        "def _transform(n_px=224):\n",
        "    return Compose([\n",
        "        Resize(n_px, interpolation=BICUBIC),\n",
        "        CenterCrop(n_px),\n",
        "        _convert_image_to_rgb,\n",
        "        ToTensor(),\n",
        "        Normalize((0.48145466, 0.4578275, 0.40821073), (0.26862954, 0.26130258, 0.27577711)),\n",
        "    ])"
      ],
      "metadata": {
        "id": "rvSQOegtPlkO"
      },
      "execution_count": 9,
      "outputs": []
    },
    {
      "cell_type": "code",
      "source": [
        "device = \"cuda\" if torch.cuda.is_available() else \"cpu\"\n",
        "model = load_clip_model()\n",
        "model = model.to(device)"
      ],
      "metadata": {
        "id": "iX4hhHudprTv",
        "outputId": "81de323a-845d-49fd-d4a5-2bcd8430c303",
        "colab": {
          "base_uri": "https://localhost:8080/"
        }
      },
      "execution_count": 16,
      "outputs": [
        {
          "output_type": "stream",
          "name": "stdout",
          "text": [
            "  % Total    % Received % Xferd  Average Speed   Time    Time     Time  Current\n",
            "                                 Dload  Upload   Total   Spent    Left  Speed\n",
            "100  1319  100  1319    0     0   4602      0 --:--:-- --:--:-- --:--:--  4611\n",
            "100 1728M  100 1728M    0     0  79.4M      0  0:00:21  0:00:21 --:--:-- 79.8M\n",
            "=> merge config from /content/vmamba/configs/vssm1/vssm_small_224.yaml\n"
          ]
        },
        {
          "output_type": "stream",
          "name": "stderr",
          "text": [
            "/content/vmamba/vmamba.py:262: FutureWarning: `torch.cuda.amp.custom_fwd(args...)` is deprecated. Please use `torch.amp.custom_fwd(args..., device_type='cuda')` instead.\n",
            "  @torch.cuda.amp.custom_fwd\n",
            "/content/vmamba/vmamba.py:270: FutureWarning: `torch.cuda.amp.custom_bwd(args...)` is deprecated. Please use `torch.amp.custom_bwd(args..., device_type='cuda')` instead.\n",
            "  @torch.cuda.amp.custom_bwd\n",
            "/content/vmamba/vmamba.py:285: FutureWarning: `torch.cuda.amp.custom_fwd(args...)` is deprecated. Please use `torch.amp.custom_fwd(args..., device_type='cuda')` instead.\n",
            "  @torch.cuda.amp.custom_fwd\n",
            "/content/vmamba/vmamba.py:293: FutureWarning: `torch.cuda.amp.custom_bwd(args...)` is deprecated. Please use `torch.amp.custom_bwd(args..., device_type='cuda')` instead.\n",
            "  @torch.cuda.amp.custom_bwd\n",
            "/content/vmamba/vmamba.py:306: FutureWarning: `torch.cuda.amp.custom_fwd(args...)` is deprecated. Please use `torch.amp.custom_fwd(args..., device_type='cuda')` instead.\n",
            "  @torch.cuda.amp.custom_fwd\n",
            "/content/vmamba/vmamba.py:314: FutureWarning: `torch.cuda.amp.custom_bwd(args...)` is deprecated. Please use `torch.amp.custom_bwd(args..., device_type='cuda')` instead.\n",
            "  @torch.cuda.amp.custom_bwd\n"
          ]
        }
      ]
    },
    {
      "cell_type": "code",
      "source": [
        "preprocess = _transform()"
      ],
      "metadata": {
        "id": "VF97P48dQSSc"
      },
      "execution_count": 10,
      "outputs": []
    },
    {
      "cell_type": "code",
      "source": [
        "# extract_clip_features('/content/drive/MyDrive/Anomaly-Videos-Part-1/Abuse/Abuse001_x264.mp4', 'UCFMambaClipFeatures', model, preprocess, device)"
      ],
      "metadata": {
        "id": "2cniQFUjRzia"
      },
      "execution_count": 17,
      "outputs": []
    },
    {
      "cell_type": "code",
      "source": [
        "extract_dataset_features(EXTRACTED_DATASET, SAVE_DIR, model, preprocess, device)"
      ],
      "metadata": {
        "id": "QAJ1xEhrMevs",
        "outputId": "e2fde31a-2399-4480-946d-a21bb7d51786",
        "colab": {
          "base_uri": "https://localhost:8080/",
          "height": 471,
          "referenced_widgets": [
            "5e0171cce4be4ec3be43f8983fc5d07a",
            "b8a77a1e81f041cc8c64755d7cc7c40c",
            "5bc2cd9f6b134958a6cad86c2d882d5c",
            "cf9a3c24bdfa4850818f5dfbd3501cd0",
            "37133f38bf0746d38d89a1003bd8bc72",
            "809ac0e38d7f450ab8bbba4a5dd9a750",
            "8ffce9e0d42c4a9ea6a740172eebe02c",
            "4dea6a41cc7f46539df2314498de19f5",
            "67d7c1cac85b4c418a092e704c1969bb",
            "5baffab99a4f4faabde90ef0f7280e6a",
            "145f2145d99746a68b7181fc24a7b351",
            "80a6e3df5a834c499e6a83dbd2671677",
            "f8ce2eac2dfd4681897b6eae8de5600f",
            "aa8845ddadc84a148f4193864410c8d4",
            "0b1e29679b3e49b99a8479b58067aa12",
            "372da3cc688c49fe8881a0d66f64d0db",
            "348b3921b8f94f98a895ecc88bfa67b8",
            "6939a9395f834911954a983c6e2d011f",
            "aebd87360f624216b0a181f5dc347ecb",
            "918d8f1d49634b8b8c3e108feefcfebf",
            "895cb1c7111d4a03ae654e6b41b4c798",
            "0d861d76b56641e094e1e47bbd18e8fb"
          ]
        }
      },
      "execution_count": 17,
      "outputs": [
        {
          "output_type": "stream",
          "name": "stdout",
          "text": [
            "Found 430 videos in /content/drive/MyDrive/Training-Normal-Videos-Part-1\n"
          ]
        },
        {
          "output_type": "display_data",
          "data": {
            "text/plain": [
              "Dataset:   0%|          | 0/430 [00:00<?, ?video/s]"
            ],
            "application/vnd.jupyter.widget-view+json": {
              "version_major": 2,
              "version_minor": 0,
              "model_id": "5e0171cce4be4ec3be43f8983fc5d07a"
            }
          },
          "metadata": {}
        },
        {
          "output_type": "display_data",
          "data": {
            "text/plain": [
              "Video: Normal_Videos307_x264:   0%|          | 0/10 [00:00<?, ?crop/s]"
            ],
            "application/vnd.jupyter.widget-view+json": {
              "version_major": 2,
              "version_minor": 0,
              "model_id": "80a6e3df5a834c499e6a83dbd2671677"
            }
          },
          "metadata": {}
        },
        {
          "output_type": "stream",
          "name": "stderr",
          "text": [
            "/usr/local/lib/python3.12/dist-packages/torch/_dynamo/eval_frame.py:600: UserWarning: torch.utils.checkpoint: the use_reentrant parameter should be passed explicitly. In version 2.4 we will raise an exception if use_reentrant is not passed. use_reentrant=False is recommended, but if you need to preserve the current default behavior, you can pass use_reentrant=True. Refer to docs for more details on the differences between the two variants.\n",
            "  return fn(*args, **kwargs)\n",
            "/usr/local/lib/python3.12/dist-packages/torch/utils/checkpoint.py:92: UserWarning: None of the inputs have requires_grad=True. Gradients will be None\n",
            "  warnings.warn(\n"
          ]
        },
        {
          "output_type": "error",
          "ename": "KeyboardInterrupt",
          "evalue": "",
          "traceback": [
            "\u001b[0;31m---------------------------------------------------------------------------\u001b[0m",
            "\u001b[0;31mKeyboardInterrupt\u001b[0m                         Traceback (most recent call last)",
            "\u001b[0;32m/tmp/ipython-input-952103177.py\u001b[0m in \u001b[0;36m<cell line: 0>\u001b[0;34m()\u001b[0m\n\u001b[0;32m----> 1\u001b[0;31m \u001b[0mextract_dataset_features\u001b[0m\u001b[0;34m(\u001b[0m\u001b[0mEXTRACTED_DATASET\u001b[0m\u001b[0;34m,\u001b[0m \u001b[0mSAVE_DIR\u001b[0m\u001b[0;34m,\u001b[0m \u001b[0mmodel\u001b[0m\u001b[0;34m,\u001b[0m \u001b[0mpreprocess\u001b[0m\u001b[0;34m,\u001b[0m \u001b[0mdevice\u001b[0m\u001b[0;34m)\u001b[0m\u001b[0;34m\u001b[0m\u001b[0;34m\u001b[0m\u001b[0m\n\u001b[0m",
            "\u001b[0;32m/tmp/ipython-input-2035330439.py\u001b[0m in \u001b[0;36mextract_dataset_features\u001b[0;34m(dataset_dir, save_dir, model, preprocess, device)\u001b[0m\n\u001b[1;32m      8\u001b[0m     \u001b[0;32mfor\u001b[0m \u001b[0mvideo_path\u001b[0m \u001b[0;32min\u001b[0m \u001b[0mtqdm\u001b[0m\u001b[0;34m(\u001b[0m\u001b[0mvideo_files\u001b[0m\u001b[0;34m,\u001b[0m \u001b[0mdesc\u001b[0m\u001b[0;34m=\u001b[0m\u001b[0;34m\"Dataset\"\u001b[0m\u001b[0;34m,\u001b[0m \u001b[0munit\u001b[0m\u001b[0;34m=\u001b[0m\u001b[0;34m\"video\"\u001b[0m\u001b[0;34m,\u001b[0m \u001b[0mposition\u001b[0m\u001b[0;34m=\u001b[0m\u001b[0;36m0\u001b[0m\u001b[0;34m)\u001b[0m\u001b[0;34m:\u001b[0m\u001b[0;34m\u001b[0m\u001b[0;34m\u001b[0m\u001b[0m\n\u001b[1;32m      9\u001b[0m         \u001b[0;32mtry\u001b[0m\u001b[0;34m:\u001b[0m\u001b[0;34m\u001b[0m\u001b[0;34m\u001b[0m\u001b[0m\n\u001b[0;32m---> 10\u001b[0;31m             extract_clip_features(\n\u001b[0m\u001b[1;32m     11\u001b[0m                 \u001b[0mvideo_path\u001b[0m\u001b[0;34m=\u001b[0m\u001b[0mvideo_path\u001b[0m\u001b[0;34m,\u001b[0m\u001b[0;34m\u001b[0m\u001b[0;34m\u001b[0m\u001b[0m\n\u001b[1;32m     12\u001b[0m                 \u001b[0msave_dir\u001b[0m\u001b[0;34m=\u001b[0m\u001b[0msave_dir\u001b[0m\u001b[0;34m,\u001b[0m\u001b[0;34m\u001b[0m\u001b[0;34m\u001b[0m\u001b[0m\n",
            "\u001b[0;32m/tmp/ipython-input-1096665861.py\u001b[0m in \u001b[0;36mextract_clip_features\u001b[0;34m(video_path, save_dir, model, preprocess, device, stride, pick, batch_size)\u001b[0m\n\u001b[1;32m     70\u001b[0m \u001b[0;34m\u001b[0m\u001b[0m\n\u001b[1;32m     71\u001b[0m                     \u001b[0mfeats\u001b[0m \u001b[0;34m=\u001b[0m \u001b[0mmodel\u001b[0m\u001b[0;34m.\u001b[0m\u001b[0mencode_image\u001b[0m\u001b[0;34m(\u001b[0m\u001b[0mbatch_tensors\u001b[0m\u001b[0;34m)\u001b[0m\u001b[0;34m\u001b[0m\u001b[0;34m\u001b[0m\u001b[0m\n\u001b[0;32m---> 72\u001b[0;31m                     \u001b[0mvideo_features\u001b[0m\u001b[0;34m.\u001b[0m\u001b[0mappend\u001b[0m\u001b[0;34m(\u001b[0m\u001b[0mfeats\u001b[0m\u001b[0;34m.\u001b[0m\u001b[0mcpu\u001b[0m\u001b[0;34m(\u001b[0m\u001b[0;34m)\u001b[0m\u001b[0;34m.\u001b[0m\u001b[0mnumpy\u001b[0m\u001b[0;34m(\u001b[0m\u001b[0;34m)\u001b[0m\u001b[0;34m)\u001b[0m\u001b[0;34m\u001b[0m\u001b[0;34m\u001b[0m\u001b[0m\n\u001b[0m\u001b[1;32m     73\u001b[0m \u001b[0;34m\u001b[0m\u001b[0m\n\u001b[1;32m     74\u001b[0m                     \u001b[0mbatch_frames\u001b[0m\u001b[0;34m.\u001b[0m\u001b[0mclear\u001b[0m\u001b[0;34m(\u001b[0m\u001b[0;34m)\u001b[0m\u001b[0;34m\u001b[0m\u001b[0;34m\u001b[0m\u001b[0m\n",
            "\u001b[0;31mKeyboardInterrupt\u001b[0m: "
          ]
        }
      ]
    }
  ]
}